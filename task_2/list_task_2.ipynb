{
 "cells": [
  {
   "cell_type": "code",
   "execution_count": null,
   "id": "702b174f",
   "metadata": {},
   "outputs": [],
   "source": [
    "\n",
    "# list with 25 values\n",
    "numbers_list = [1, 5, 8, 12, 15, 20, 25, 30, 35, 40, 45, 50, 55, 60, 65, 70, 75, 80, 85, 90, 95, 100, 105, 110, 115]\n",
    "\n",
    "# dictionary with 20 key-value pairs \n",
    "{\n",
    "    'US': 'United States',\n",
    "    'CA': 'Canada',\n",
    "    'MX': 'Mexico',\n",
    "    'BR': 'Brazil',\n",
    "    'GB': 'United Kingdom',\n",
    "    'FR': 'France',\n",
    "    'DE': 'Germany',\n",
    "    'JP': 'Japan',\n",
    "    'CN': 'China',\n",
    "    'IN': 'India',\n",
    "    'AU': 'Australia',\n",
    "    'ZA': 'South Africa',\n",
    "    'RU': 'Russia',\n",
    "    'IT': 'Italy',\n",
    "    'ES': 'Spain',\n",
    "    'KR': 'South Korea',\n",
    "    'SG': 'Singapore',\n",
    "    'AE': 'United Arab Emirates',\n",
    "    'AR': 'Argentina',\n",
    "    'NG': 'Nigeria'\n",
    "}"
   ]
  },
  {
   "cell_type": "code",
   "execution_count": 2,
   "id": "d171c6c2",
   "metadata": {},
   "outputs": [
    {
     "data": {
      "text/plain": [
       "{'US': 'United States',\n",
       " 'CA': 'Canada',\n",
       " 'MX': 'Mexico',\n",
       " 'BR': 'Brazil',\n",
       " 'GB': 'United Kingdom',\n",
       " 'FR': 'France',\n",
       " 'DE': 'Germany',\n",
       " 'JP': 'Japan',\n",
       " 'CN': 'China',\n",
       " 'IN': 'India',\n",
       " 'AU': 'Australia',\n",
       " 'ZA': 'South Africa',\n",
       " 'RU': 'Russia',\n",
       " 'IT': 'Italy',\n",
       " 'ES': 'Spain',\n",
       " 'KR': 'South Korea',\n",
       " 'SG': 'Singapore',\n",
       " 'AE': 'United Arab Emirates',\n",
       " 'AR': 'Argentina',\n",
       " 'NG': 'Nigeria'}"
      ]
     },
     "execution_count": 2,
     "metadata": {},
     "output_type": "execute_result"
    }
   ],
   "source": [
    "country_codes"
   ]
  },
  {
   "cell_type": "markdown",
   "id": "513d12dd",
   "metadata": {},
   "source": [
    "## Conditional operator\n"
   ]
  },
  {
   "cell_type": "code",
   "execution_count": null,
   "id": "8a353ef6",
   "metadata": {},
   "outputs": [
    {
     "name": "stdout",
     "output_type": "stream",
     "text": [
      "14 is even.\n",
      "The student passed.\n",
      "User status: Inactive\n"
     ]
    }
   ],
   "source": [
    "number = 14\n",
    "print(f\"{number} is {'even' if number % 2 == 0 else 'odd'}.\")\n",
    "score = 85\n",
    "\n",
    "print(f\"The student {'passed' if score >= 60 else 'failed'}.\")\n",
    "\n",
    "is_active = False\n",
    "print(\"User status: Active\" if is_active else \"User status: Inactive\")"
   ]
  },
  {
   "cell_type": "markdown",
   "id": "7fc384df",
   "metadata": {},
   "source": [
    "## Logical operator"
   ]
  },
  {
   "cell_type": "code",
   "execution_count": 4,
   "id": "cc96b89d",
   "metadata": {},
   "outputs": [
    {
     "name": "stdout",
     "output_type": "stream",
     "text": [
      "Eligible for  member discount.\n",
      "Access granted.\n",
      "Great day for a trip!\n"
     ]
    }
   ],
   "source": [
    "age = 65\n",
    "is_member = True\n",
    "print(\"Eligible for  member discount.\" if age >= 65 and is_member else \"Not eligible.\")\n",
    "\n",
    "# \n",
    "user_role = \"admin\"\n",
    "print(\"Access granted.\" if user_role == \"admin\" or user_role == \"manager\" else \"Access denied.\")\n",
    "\n",
    "#  \n",
    "weather = \"sunny\"\n",
    "temperature = 28\n",
    "print(\"Great day for a trip!\" if weather == \"sunny\" and temperature > 25 else \"Maybe stay home.\")"
   ]
  },
  {
   "cell_type": "markdown",
   "id": "828f343e",
   "metadata": {},
   "source": [
    "## Aggregation operator"
   ]
  },
  {
   "cell_type": "code",
   "execution_count": null,
   "id": "b4312c64",
   "metadata": {},
   "outputs": [
    {
     "name": "stdout",
     "output_type": "stream",
     "text": [
      "Total revenue for the day: $3401.50\n",
      "The maximum value is: 45\n",
      "You have 3 items in your cart.\n",
      "The lowest temperature recorded was: 15°C\n",
      "Number of unique pages visited: 3\n"
     ]
    }
   ],
   "source": [
    "\n",
    "daily_sales = [500.50, 750.00, 1200.75, 950.25]\n",
    "print(f\"Total revenue for the day: ${sum(daily_sales):.2f}\")\n",
    "\n",
    "\n",
    "data_points = [10, 25, 3, 45, 18]\n",
    "print(f\"The maximum value is: {max(data_points)}\")\n",
    "\n",
    "\n",
    "cart = [\"laptop\", \"mouse\", \"keyboard\"]\n",
    "print(f\"You have {len(cart)} items in your cart.\")\n",
    "\n",
    "\n",
    "temperatures = {28, 15, 22, 19, 31}\n",
    "print(f\"The lowest temperature recorded was: {min(temperatures)}°C\")\n",
    "\n",
    "\n",
    "user_visits = [\"homepage\", \"about\", \"contact\", \"homepage\", \"contact\"]\n",
    "print(f\"Number of unique pages visited: {len(set(user_visits))}\")"
   ]
  }
 ],
 "metadata": {
  "kernelspec": {
   "display_name": "Python 3",
   "language": "python",
   "name": "python3"
  },
  "language_info": {
   "codemirror_mode": {
    "name": "ipython",
    "version": 3
   },
   "file_extension": ".py",
   "mimetype": "text/x-python",
   "name": "python",
   "nbconvert_exporter": "python",
   "pygments_lexer": "ipython3",
   "version": "3.13.7"
  }
 },
 "nbformat": 4,
 "nbformat_minor": 5
}
