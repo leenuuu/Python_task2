{
 "cells": [
  {
   "cell_type": "code",
   "execution_count": 1,
   "id": "9867491d",
   "metadata": {},
   "outputs": [],
   "source": [
    "def count_vowels(text):\n",
    "    \"\"\"Returns the total number of vowels (a, e, i, o, u) in a string.\"\"\"\n",
    "    vowels = 'aeiouAEIOU'\n",
    "    count = 0\n",
    "    for char in text:\n",
    "        if char in vowels:\n",
    "            count += 1\n",
    "    return count"
   ]
  },
  {
   "cell_type": "code",
   "execution_count": 10,
   "id": "8bab4633",
   "metadata": {},
   "outputs": [
    {
     "data": {
      "text/plain": [
       "5"
      ]
     },
     "execution_count": 10,
     "metadata": {},
     "output_type": "execute_result"
    }
   ],
   "source": [
    "count_vowels(\"aeiou\")"
   ]
  },
  {
   "cell_type": "code",
   "execution_count": null,
   "id": "a6636e82",
   "metadata": {},
   "outputs": [],
   "source": [
    "def calculate_rectangle_area(length, width):\n",
    "    \"\"\"Returns the area of a rectangle.\"\"\"\n",
    "    area = length * width\n",
    "    return area\n"
   ]
  },
  {
   "cell_type": "code",
   "execution_count": 11,
   "id": "55505f40",
   "metadata": {},
   "outputs": [
    {
     "data": {
      "text/plain": [
       "50"
      ]
     },
     "execution_count": 11,
     "metadata": {},
     "output_type": "execute_result"
    }
   ],
   "source": [
    "calculate_rectangle_area(5,10)"
   ]
  },
  {
   "cell_type": "code",
   "execution_count": 15,
   "id": "0f360816",
   "metadata": {},
   "outputs": [],
   "source": [
    "def is_even(number):\n",
    "    \"\"\"Returns True if the number is even, False otherwise.\"\"\"\n",
    "    return number % 2 == 0"
   ]
  },
  {
   "cell_type": "code",
   "execution_count": 16,
   "id": "fc6e838d",
   "metadata": {},
   "outputs": [
    {
     "data": {
      "text/plain": [
       "True"
      ]
     },
     "execution_count": 16,
     "metadata": {},
     "output_type": "execute_result"
    }
   ],
   "source": [
    "is_even(4)"
   ]
  },
  {
   "cell_type": "code",
   "execution_count": 17,
   "id": "1fff7a7d",
   "metadata": {},
   "outputs": [],
   "source": [
    "def get_last_element(data_list):\n",
    "    \"\"\"Returns the last element of a list, or None if empty.\"\"\"\n",
    "    if data_list:\n",
    "        return data_list[-1]\n",
    "    return None"
   ]
  },
  {
   "cell_type": "code",
   "execution_count": 19,
   "id": "f8597cfe",
   "metadata": {},
   "outputs": [
    {
     "data": {
      "text/plain": [
       "0"
      ]
     },
     "execution_count": 19,
     "metadata": {},
     "output_type": "execute_result"
    }
   ],
   "source": [
    "get_last_element([3, 4, 5, 6, 7, 8, 9, 0])"
   ]
  },
  {
   "cell_type": "code",
   "execution_count": 20,
   "id": "540be5aa",
   "metadata": {},
   "outputs": [
    {
     "name": "stdout",
     "output_type": "stream",
     "text": [
      "original string is = name\n",
      "string after reverse = eman\n",
      "string is not palindrome\n",
      " \n",
      "original string is = madam\n",
      "string after reverse = madam\n",
      "enter string is palindrome\n",
      " \n"
     ]
    }
   ],
   "source": [
    "def ispalindrom(str):\n",
    "    print(f\"original string is = {str}\")\n",
    "    text = \"\".join(reversed(str))\n",
    "    #print(\" \")\n",
    "    print(\"string after reverse =\",text)\n",
    "    if str == text :\n",
    "        print(\"enter string is palindrome\")\n",
    "        print(\" \")\n",
    "    else:\n",
    "        print(\"string is not palindrome\")\n",
    "    \n",
    "ispalindrom(\"name\")\n",
    "print(\" \")\n",
    "ispalindrom(\"madam\")"
   ]
  },
  {
   "cell_type": "code",
   "execution_count": 27,
   "id": "7b4730d0",
   "metadata": {},
   "outputs": [
    {
     "name": "stdout",
     "output_type": "stream",
     "text": [
      "120\n"
     ]
    }
   ],
   "source": [
    "def factorial(n):\n",
    "    if n== 0 or n==1:\n",
    "        return 1\n",
    "    else:\n",
    "        return n * factorial(n-1)\n",
    "    print(factorial(5))\n",
    "    factorial(5)\n",
    "    \n",
    "    print(\"Output of print(factorial(5)):\")\n",
    "print(factorial(5))"
   ]
  },
  {
   "cell_type": "code",
   "execution_count": 29,
   "id": "759c87c3",
   "metadata": {},
   "outputs": [
    {
     "data": {
      "text/plain": [
       "(150, 30.0)"
      ]
     },
     "execution_count": 29,
     "metadata": {},
     "output_type": "execute_result"
    }
   ],
   "source": [
    "def get_sum_and_average(numbers):\n",
    "    \"\"\"Returns a tuple containing the sum and the average of a list of numbers.\"\"\"\n",
    "    if not numbers:\n",
    "        return (0, 0.0)\n",
    "    total_sum = sum(numbers)\n",
    "    average = total_sum / len(numbers)\n",
    "    return (total_sum, average)\n",
    "get_sum_and_average([10,20,30,40,50])"
   ]
  },
  {
   "cell_type": "code",
   "execution_count": 31,
   "id": "a26506c5",
   "metadata": {},
   "outputs": [
    {
     "data": {
      "text/plain": [
       "'J. D.'"
      ]
     },
     "execution_count": 31,
     "metadata": {},
     "output_type": "execute_result"
    }
   ],
   "source": [
    "def generate_initials(full_name):\n",
    "    \"\"\"Returns the initials (e.g., 'J. D.') from a full name.\"\"\"\n",
    "    names = full_name.split()\n",
    "    initials = [name[0].upper() + '.' for name in names]\n",
    "    return ' '.join(initials)\n",
    "generate_initials(\"jhon doe\")"
   ]
  },
  {
   "cell_type": "code",
   "execution_count": 33,
   "id": "876ae260",
   "metadata": {},
   "outputs": [
    {
     "name": "stdout",
     "output_type": "stream",
     "text": [
      "Eligible to vote\n"
     ]
    }
   ],
   "source": [
    "def check_voting_eligibility(age):\n",
    "    voting_age = 18\n",
    "    if age >= voting_age:\n",
    "        return \"Eligible to vote\"\n",
    "    else:\n",
    "        return \"Not eligible to vote\"\n",
    "print(check_voting_eligibility(20))"
   ]
  },
  {
   "cell_type": "code",
   "execution_count": 35,
   "id": "fab5791a",
   "metadata": {},
   "outputs": [
    {
     "data": {
      "text/plain": [
       "100.0"
      ]
     },
     "execution_count": 35,
     "metadata": {},
     "output_type": "execute_result"
    }
   ],
   "source": [
    "def calculate_simple_interest(principal, rate, time):\n",
    "    \"\"\"Returns the simple interest amount (P*R*T / 100).\"\"\"\n",
    "    interest = (principal * rate * time) / 100\n",
    "    return interest\n",
    "calculate_simple_interest(1000,5,2)"
   ]
  },
  {
   "cell_type": "code",
   "execution_count": 36,
   "id": "11f108d6",
   "metadata": {},
   "outputs": [
    {
     "data": {
      "text/plain": [
       "40"
      ]
     },
     "execution_count": 36,
     "metadata": {},
     "output_type": "execute_result"
    }
   ],
   "source": [
    "def find_maximum(numbers):\n",
    "    \"\"\"Returns the largest number in a list.\"\"\"\n",
    "    if not numbers:\n",
    "        return None\n",
    "    max_val = numbers[0]\n",
    "    for num in numbers:\n",
    "        if num > max_val:\n",
    "            max_val = num\n",
    "    return max_val\n",
    "find_maximum([10, 20, 5, 40, 15])"
   ]
  },
  {
   "cell_type": "code",
   "execution_count": 37,
   "id": "30a91832",
   "metadata": {},
   "outputs": [
    {
     "data": {
      "text/plain": [
       "'Hello, this is a ...'"
      ]
     },
     "execution_count": 37,
     "metadata": {},
     "output_type": "execute_result"
    }
   ],
   "source": [
    "def truncate_string(text, max_length):\n",
    "    \"\"\"Returns the string truncated to max_length, adding '...' if shortened.\"\"\"\n",
    "    if len(text) > max_length:\n",
    "        return text[:max_length - 3] + '...'\n",
    "    return text\n",
    "truncate_string(\"Hello, this is a sample string for truncation.\", 20)"
   ]
  },
  {
   "cell_type": "code",
   "execution_count": 38,
   "id": "b55438f0",
   "metadata": {},
   "outputs": [
    {
     "data": {
      "text/plain": [
       "1"
      ]
     },
     "execution_count": 38,
     "metadata": {},
     "output_type": "execute_result"
    }
   ],
   "source": [
    "def find_first_index(data_list, target):\n",
    "    \"\"\"Returns the index of the first occurrence of the target, or -1 if not found.\"\"\"\n",
    "    try:\n",
    "        return data_list.index(target)\n",
    "    except ValueError:\n",
    "        return -1\n",
    "find_first_index([1, 2, 3, 4, 2, 5], 2)"
   ]
  }
 ],
 "metadata": {
  "kernelspec": {
   "display_name": "Python 3",
   "language": "python",
   "name": "python3"
  },
  "language_info": {
   "codemirror_mode": {
    "name": "ipython",
    "version": 3
   },
   "file_extension": ".py",
   "mimetype": "text/x-python",
   "name": "python",
   "nbconvert_exporter": "python",
   "pygments_lexer": "ipython3",
   "version": "3.13.7"
  }
 },
 "nbformat": 4,
 "nbformat_minor": 5
}
